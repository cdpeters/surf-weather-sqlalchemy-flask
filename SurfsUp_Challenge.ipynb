{
 "cells": [
  {
   "cell_type": "code",
   "execution_count": 1,
   "metadata": {},
   "outputs": [],
   "source": [
    "import datetime as dt\n",
    "\n",
    "from matplotlib.patches import Rectangle\n",
    "import numpy as np\n",
    "import pandas as pd\n",
    "# Python SQL toolkit and Object Relational Mapper\n",
    "import sqlalchemy\n",
    "from sqlalchemy.ext.automap import automap_base\n",
    "from sqlalchemy.orm import Session\n",
    "from sqlalchemy import create_engine, func, inspect\n",
    "\n",
    "# 1. Import the sqlalchemy extract function.\n",
    "from sqlalchemy import extract"
   ]
  },
  {
   "cell_type": "markdown",
   "metadata": {},
   "source": [
    "## Connect to the Database"
   ]
  },
  {
   "cell_type": "code",
   "execution_count": 2,
   "metadata": {},
   "outputs": [],
   "source": [
    "engine = create_engine(\"sqlite:///Resources/hawaii.sqlite\")\n",
    "\n",
    "# reflect an existing database into a new model\n",
    "Base = automap_base()\n",
    "# reflect the tables\n",
    "Base.prepare(engine, reflect=True)\n",
    "\n",
    "# Save references to each table\n",
    "Measurement = Base.classes.measurement\n",
    "Station = Base.classes.station"
   ]
  },
  {
   "cell_type": "code",
   "execution_count": 3,
   "metadata": {},
   "outputs": [],
   "source": [
    "# Create our session (link) from Python to the DB\n",
    "session = Session(engine)"
   ]
  },
  {
   "cell_type": "code",
   "execution_count": 4,
   "metadata": {},
   "outputs": [
    {
     "name": "stdout",
     "output_type": "stream",
     "text": [
      "measurement columns = ['id', 'station', 'date', 'prcp', 'tobs']\n",
      "station columns = ['id', 'station', 'name', 'latitude', 'longitude', 'elevation']\n"
     ]
    }
   ],
   "source": [
    "# Inspect to see the column names for each reflected table\n",
    "ins_meas = inspect(Measurement)\n",
    "meas_col = [col.key for col in ins_meas.mapper.column_attrs]\n",
    "ins_station = inspect(Station)\n",
    "station_col = [col.key for col in ins_station.mapper.column_attrs]\n",
    "\n",
    "# Print the columns\n",
    "print('measurement columns =', meas_col)\n",
    "print('station columns =', station_col)"
   ]
  },
  {
   "cell_type": "markdown",
   "metadata": {},
   "source": [
    "## Deliverable 1: Determine the Summary Statistics for Temperatures in June"
   ]
  },
  {
   "cell_type": "code",
   "execution_count": 5,
   "metadata": {
    "tags": []
   },
   "outputs": [],
   "source": [
    "# 2. Write a query that filters the Measurement table to retrieve the \n",
    "# temperatures for the month of June. \n",
    "jun_temps = (session.query(Measurement.tobs)\n",
    "                     .filter(extract('month', Measurement.date) == 6)\n",
    "                     .all())"
   ]
  },
  {
   "cell_type": "code",
   "execution_count": 6,
   "metadata": {
    "tags": []
   },
   "outputs": [],
   "source": [
    "#  3. Convert the June temperatures to a list.\n",
    "jun_temps = list(np.ravel(jun_temps))"
   ]
  },
  {
   "cell_type": "code",
   "execution_count": 7,
   "metadata": {
    "tags": []
   },
   "outputs": [],
   "source": [
    "# 4. Create a DataFrame from the list of temperatures for the month of June.\n",
    "jun_temps_df = pd.DataFrame(jun_temps, columns=['June Temps'])"
   ]
  },
  {
   "cell_type": "code",
   "execution_count": 8,
   "metadata": {},
   "outputs": [
    {
     "data": {
      "text/html": [
       "<div>\n",
       "<style scoped>\n",
       "    .dataframe tbody tr th:only-of-type {\n",
       "        vertical-align: middle;\n",
       "    }\n",
       "\n",
       "    .dataframe tbody tr th {\n",
       "        vertical-align: top;\n",
       "    }\n",
       "\n",
       "    .dataframe thead th {\n",
       "        text-align: right;\n",
       "    }\n",
       "</style>\n",
       "<table border=\"1\" class=\"dataframe\">\n",
       "  <thead>\n",
       "    <tr style=\"text-align: right;\">\n",
       "      <th></th>\n",
       "      <th>June Temps</th>\n",
       "    </tr>\n",
       "  </thead>\n",
       "  <tbody>\n",
       "    <tr>\n",
       "      <th>count</th>\n",
       "      <td>1700.000000</td>\n",
       "    </tr>\n",
       "    <tr>\n",
       "      <th>mean</th>\n",
       "      <td>74.944118</td>\n",
       "    </tr>\n",
       "    <tr>\n",
       "      <th>std</th>\n",
       "      <td>3.257417</td>\n",
       "    </tr>\n",
       "    <tr>\n",
       "      <th>min</th>\n",
       "      <td>64.000000</td>\n",
       "    </tr>\n",
       "    <tr>\n",
       "      <th>25%</th>\n",
       "      <td>73.000000</td>\n",
       "    </tr>\n",
       "    <tr>\n",
       "      <th>50%</th>\n",
       "      <td>75.000000</td>\n",
       "    </tr>\n",
       "    <tr>\n",
       "      <th>75%</th>\n",
       "      <td>77.000000</td>\n",
       "    </tr>\n",
       "    <tr>\n",
       "      <th>max</th>\n",
       "      <td>85.000000</td>\n",
       "    </tr>\n",
       "  </tbody>\n",
       "</table>\n",
       "</div>"
      ],
      "text/plain": [
       "        June Temps\n",
       "count  1700.000000\n",
       "mean     74.944118\n",
       "std       3.257417\n",
       "min      64.000000\n",
       "25%      73.000000\n",
       "50%      75.000000\n",
       "75%      77.000000\n",
       "max      85.000000"
      ]
     },
     "execution_count": 8,
     "metadata": {},
     "output_type": "execute_result"
    }
   ],
   "source": [
    "# 5. Calculate and print out the summary statistics for the June temperature\n",
    "# DataFrame.\n",
    "jun_temps_df.describe()"
   ]
  },
  {
   "cell_type": "markdown",
   "metadata": {},
   "source": [
    "## Deliverable 2: Determine the Summary Statistics for Temperatures in December"
   ]
  },
  {
   "cell_type": "code",
   "execution_count": 9,
   "metadata": {
    "tags": []
   },
   "outputs": [],
   "source": [
    "# 6. Write a query that filters the Measurement table to retrieve the\n",
    "# temperatures for the month of December.\n",
    "dec_temps = (session.query(Measurement.tobs)\n",
    "                         .filter(extract('month', Measurement.date) == 12)\n",
    "                         .all())"
   ]
  },
  {
   "cell_type": "code",
   "execution_count": 10,
   "metadata": {
    "tags": []
   },
   "outputs": [],
   "source": [
    "# 7. Convert the December temperatures to a list.\n",
    "dec_temps = list(np.ravel(dec_temps))"
   ]
  },
  {
   "cell_type": "code",
   "execution_count": 11,
   "metadata": {
    "tags": []
   },
   "outputs": [],
   "source": [
    "# 8. Create a DataFrame from the list of temperatures for the month of December. \n",
    "dec_temps_df = pd.DataFrame(dec_temps, columns=['December Temps'])"
   ]
  },
  {
   "cell_type": "code",
   "execution_count": 12,
   "metadata": {},
   "outputs": [
    {
     "data": {
      "text/html": [
       "<div>\n",
       "<style scoped>\n",
       "    .dataframe tbody tr th:only-of-type {\n",
       "        vertical-align: middle;\n",
       "    }\n",
       "\n",
       "    .dataframe tbody tr th {\n",
       "        vertical-align: top;\n",
       "    }\n",
       "\n",
       "    .dataframe thead th {\n",
       "        text-align: right;\n",
       "    }\n",
       "</style>\n",
       "<table border=\"1\" class=\"dataframe\">\n",
       "  <thead>\n",
       "    <tr style=\"text-align: right;\">\n",
       "      <th></th>\n",
       "      <th>December Temps</th>\n",
       "    </tr>\n",
       "  </thead>\n",
       "  <tbody>\n",
       "    <tr>\n",
       "      <th>count</th>\n",
       "      <td>1517.000000</td>\n",
       "    </tr>\n",
       "    <tr>\n",
       "      <th>mean</th>\n",
       "      <td>71.041529</td>\n",
       "    </tr>\n",
       "    <tr>\n",
       "      <th>std</th>\n",
       "      <td>3.745920</td>\n",
       "    </tr>\n",
       "    <tr>\n",
       "      <th>min</th>\n",
       "      <td>56.000000</td>\n",
       "    </tr>\n",
       "    <tr>\n",
       "      <th>25%</th>\n",
       "      <td>69.000000</td>\n",
       "    </tr>\n",
       "    <tr>\n",
       "      <th>50%</th>\n",
       "      <td>71.000000</td>\n",
       "    </tr>\n",
       "    <tr>\n",
       "      <th>75%</th>\n",
       "      <td>74.000000</td>\n",
       "    </tr>\n",
       "    <tr>\n",
       "      <th>max</th>\n",
       "      <td>83.000000</td>\n",
       "    </tr>\n",
       "  </tbody>\n",
       "</table>\n",
       "</div>"
      ],
      "text/plain": [
       "       December Temps\n",
       "count     1517.000000\n",
       "mean        71.041529\n",
       "std          3.745920\n",
       "min         56.000000\n",
       "25%         69.000000\n",
       "50%         71.000000\n",
       "75%         74.000000\n",
       "max         83.000000"
      ]
     },
     "execution_count": 12,
     "metadata": {},
     "output_type": "execute_result"
    }
   ],
   "source": [
    "# 9. Calculate and print out the summary statistics for the December\n",
    "# temperature DataFrame.\n",
    "dec_temps_df.describe()"
   ]
  },
  {
   "cell_type": "markdown",
   "metadata": {},
   "source": [
    "## Additional Queries"
   ]
  },
  {
   "cell_type": "markdown",
   "metadata": {},
   "source": [
    "### Additional Query 1: Average Daily Temperture for June and December"
   ]
  },
  {
   "cell_type": "code",
   "execution_count": 13,
   "metadata": {
    "tags": []
   },
   "outputs": [],
   "source": [
    "# First create two subqueries containing the temperature and precipitation data \n",
    "# for each month grouped by the day of the month.\n",
    "# June average daily temperatures and precipitations\n",
    "jun_subq = (session.query(extract('day', Measurement.date).label('day'),\n",
    "                          (func.sum(Measurement.tobs)/func.count(Measurement.tobs)).label('j_temp'),\n",
    "                          (func.sum(Measurement.prcp)/func.count(Measurement.prcp)).label('j_prcp'))\n",
    "                   .filter(extract('month', Measurement.date) == 6)\n",
    "                   .group_by(extract('day', Measurement.date))\n",
    "                   .subquery('jun'))\n",
    "# December average daily temperatures and precipitations\n",
    "dec_subq = (session.query(extract('day', Measurement.date).label('day'),\n",
    "                          (func.sum(Measurement.tobs)/func.count(Measurement.tobs)).label('d_temp'),\n",
    "                          (func.sum(Measurement.prcp)/func.count(Measurement.prcp)).label('d_prcp'))\n",
    "                   .filter(extract('month', Measurement.date) == 12)\n",
    "                   .group_by(extract('day', Measurement.date))\n",
    "                   .subquery('dec'))\n",
    "\n",
    "# Join the two subqueries on the day column\n",
    "daily_averages = (session.query(dec_subq.c.day,\n",
    "                                jun_subq.c.j_temp,\n",
    "                                dec_subq.c.d_temp,\n",
    "                                jun_subq.c.j_prcp,\n",
    "                                dec_subq.c.d_prcp)\n",
    "                          .outerjoin(jun_subq, dec_subq.c.day == jun_subq.c.day)\n",
    "                          .all())\n",
    "\n",
    "# Create a DataFrame from the daily_averages query\n",
    "daily_averages_df = pd.DataFrame(daily_averages, columns=['day',\n",
    "                                                          'jun_temp',\n",
    "                                                          'dec_temp',\n",
    "                                                          'jun_prcp',\n",
    "                                                          'dec_prcp'])\n",
    "\n",
    "# Use the day of the month as the index\n",
    "daily_averages_df.set_index(['day'], inplace=True)"
   ]
  },
  {
   "cell_type": "markdown",
   "metadata": {},
   "source": [
    "#### Average Daily Temperature Plot"
   ]
  },
  {
   "cell_type": "code",
   "execution_count": 14,
   "metadata": {
    "tags": []
   },
   "outputs": [
    {
     "data": {
      "image/png": "[encoded data removed]",
      "text/plain": [
       "<Figure size 432x288 with 1 Axes>"
      ]
     },
     "metadata": {},
     "output_type": "display_data"
    }
   ],
   "source": [
    "# Average Daily Temperature (ADT) plot\n",
    "ax = daily_averages_df[['jun_temp','dec_temp']].plot(title='Average Daily Temperature',\n",
    "                                                     xlabel='Day of Month',\n",
    "                                                     ylabel='Temperature (°F)')\n",
    "ax.legend(labels=['June', 'December'])\n",
    "fig = ax.get_figure()\n",
    "fig.patch.set_facecolor('white')\n",
    "# fig.add_artist(Rectangle((0, 0), width=1, height=1, facecolor='none', edgecolor='black'))\n",
    "fig.savefig('Resources/avg_daily_temperature.svg')"
   ]
  },
  {
   "cell_type": "markdown",
   "metadata": {},
   "source": [
    "#### Average Daily Precipitation Plot"
   ]
  },
  {
   "cell_type": "code",
   "execution_count": 15,
   "metadata": {},
   "outputs": [
    {
     "data": {
      "image/png": "[encoded data removed]",
      "text/plain": [
       "<Figure size 432x288 with 1 Axes>"
      ]
     },
     "metadata": {},
     "output_type": "display_data"
    }
   ],
   "source": [
    "# Average Daily Precipitation (ADT) plot\n",
    "ax = daily_averages_df[['jun_prcp','dec_prcp']].plot(title='Average Daily Precipitation',\n",
    "                                                     xlabel='Day of Month',\n",
    "                                                     ylabel='Precipitation (in)')\n",
    "ax.legend(labels=['June', 'December'])\n",
    "fig = ax.get_figure()\n",
    "fig.patch.set_facecolor('white')\n",
    "# fig.add_artist(Rectangle((0, 0), width=1, height=1, facecolor='none', edgecolor='black'))\n",
    "fig.savefig('Resources/avg_daily_precipitation.svg')"
   ]
  },
  {
   "cell_type": "markdown",
   "metadata": {},
   "source": [
    "### Additional Query 2: Determine the Summary Statistics for Precipitation in June"
   ]
  },
  {
   "cell_type": "code",
   "execution_count": 16,
   "metadata": {
    "tags": []
   },
   "outputs": [
    {
     "data": {
      "text/html": [
       "<div>\n",
       "<style scoped>\n",
       "    .dataframe tbody tr th:only-of-type {\n",
       "        vertical-align: middle;\n",
       "    }\n",
       "\n",
       "    .dataframe tbody tr th {\n",
       "        vertical-align: top;\n",
       "    }\n",
       "\n",
       "    .dataframe thead th {\n",
       "        text-align: right;\n",
       "    }\n",
       "</style>\n",
       "<table border=\"1\" class=\"dataframe\">\n",
       "  <thead>\n",
       "    <tr style=\"text-align: right;\">\n",
       "      <th></th>\n",
       "      <th>June Precipitation</th>\n",
       "    </tr>\n",
       "  </thead>\n",
       "  <tbody>\n",
       "    <tr>\n",
       "      <th>count</th>\n",
       "      <td>1574.000000</td>\n",
       "    </tr>\n",
       "    <tr>\n",
       "      <th>mean</th>\n",
       "      <td>0.136360</td>\n",
       "    </tr>\n",
       "    <tr>\n",
       "      <th>std</th>\n",
       "      <td>0.335731</td>\n",
       "    </tr>\n",
       "    <tr>\n",
       "      <th>min</th>\n",
       "      <td>0.000000</td>\n",
       "    </tr>\n",
       "    <tr>\n",
       "      <th>25%</th>\n",
       "      <td>0.000000</td>\n",
       "    </tr>\n",
       "    <tr>\n",
       "      <th>50%</th>\n",
       "      <td>0.020000</td>\n",
       "    </tr>\n",
       "    <tr>\n",
       "      <th>75%</th>\n",
       "      <td>0.120000</td>\n",
       "    </tr>\n",
       "    <tr>\n",
       "      <th>max</th>\n",
       "      <td>4.430000</td>\n",
       "    </tr>\n",
       "  </tbody>\n",
       "</table>\n",
       "</div>"
      ],
      "text/plain": [
       "       June Precipitation\n",
       "count         1574.000000\n",
       "mean             0.136360\n",
       "std              0.335731\n",
       "min              0.000000\n",
       "25%              0.000000\n",
       "50%              0.020000\n",
       "75%              0.120000\n",
       "max              4.430000"
      ]
     },
     "execution_count": 16,
     "metadata": {},
     "output_type": "execute_result"
    }
   ],
   "source": [
    "# Filter the Measurement table to retrieve the precipitation for the month of \n",
    "# June. \n",
    "jun_prcp = (session.query(Measurement.prcp)\n",
    "                    .filter(extract('month', Measurement.date) == 6)\n",
    "                    .all())\n",
    "\n",
    "# Convert the June precipitations to a list.\n",
    "jun_prcp = list(np.ravel(jun_prcp))\n",
    "\n",
    "# Create a DataFrame from the list of precipitations for the month of June.\n",
    "jun_prcp_df = pd.DataFrame(jun_prcp, columns=['June Precipitation'])\n",
    "\n",
    "# Calculate and print out the summary statistics for the June precipitation\n",
    "# DataFrame.\n",
    "jun_prcp_stats_df = jun_prcp_df.describe()\n",
    "jun_prcp_stats_df"
   ]
  },
  {
   "cell_type": "markdown",
   "metadata": {},
   "source": [
    "### Additional Query 3: Determine the Summary Statistics for Precipitation in December"
   ]
  },
  {
   "cell_type": "code",
   "execution_count": 17,
   "metadata": {},
   "outputs": [
    {
     "data": {
      "text/html": [
       "<div>\n",
       "<style scoped>\n",
       "    .dataframe tbody tr th:only-of-type {\n",
       "        vertical-align: middle;\n",
       "    }\n",
       "\n",
       "    .dataframe tbody tr th {\n",
       "        vertical-align: top;\n",
       "    }\n",
       "\n",
       "    .dataframe thead th {\n",
       "        text-align: right;\n",
       "    }\n",
       "</style>\n",
       "<table border=\"1\" class=\"dataframe\">\n",
       "  <thead>\n",
       "    <tr style=\"text-align: right;\">\n",
       "      <th></th>\n",
       "      <th>December Precipitation</th>\n",
       "    </tr>\n",
       "  </thead>\n",
       "  <tbody>\n",
       "    <tr>\n",
       "      <th>count</th>\n",
       "      <td>1405.000000</td>\n",
       "    </tr>\n",
       "    <tr>\n",
       "      <th>mean</th>\n",
       "      <td>0.216819</td>\n",
       "    </tr>\n",
       "    <tr>\n",
       "      <th>std</th>\n",
       "      <td>0.541399</td>\n",
       "    </tr>\n",
       "    <tr>\n",
       "      <th>min</th>\n",
       "      <td>0.000000</td>\n",
       "    </tr>\n",
       "    <tr>\n",
       "      <th>25%</th>\n",
       "      <td>0.000000</td>\n",
       "    </tr>\n",
       "    <tr>\n",
       "      <th>50%</th>\n",
       "      <td>0.030000</td>\n",
       "    </tr>\n",
       "    <tr>\n",
       "      <th>75%</th>\n",
       "      <td>0.150000</td>\n",
       "    </tr>\n",
       "    <tr>\n",
       "      <th>max</th>\n",
       "      <td>6.420000</td>\n",
       "    </tr>\n",
       "  </tbody>\n",
       "</table>\n",
       "</div>"
      ],
      "text/plain": [
       "       December Precipitation\n",
       "count             1405.000000\n",
       "mean                 0.216819\n",
       "std                  0.541399\n",
       "min                  0.000000\n",
       "25%                  0.000000\n",
       "50%                  0.030000\n",
       "75%                  0.150000\n",
       "max                  6.420000"
      ]
     },
     "execution_count": 17,
     "metadata": {},
     "output_type": "execute_result"
    }
   ],
   "source": [
    "# Filter the Measurement table to retrieve the precipitation for the month of \n",
    "# December. \n",
    "dec_prcp = (session.query(Measurement.prcp)\n",
    "                        .filter(extract('month', Measurement.date) == 12)\n",
    "                        .all())\n",
    "\n",
    "# Convert the December precipitations to a list.\n",
    "dec_prcp = list(np.ravel(dec_prcp))\n",
    "\n",
    "# Create a DataFrame from the list of precipitations for the month of December.\n",
    "dec_prcp_df = pd.DataFrame(dec_prcp, columns=['December Precipitation'])\n",
    "\n",
    "# Calculate and print out the summary statistics for the December precipitation\n",
    "# DataFrame.\n",
    "dec_prcp_stats_df = dec_prcp_df.describe()\n",
    "dec_prcp_stats_df"
   ]
  },
  {
   "cell_type": "markdown",
   "metadata": {},
   "source": [
    "### Combine Table AQ2 and AQ3 for Reporting"
   ]
  },
  {
   "cell_type": "code",
   "execution_count": 18,
   "metadata": {},
   "outputs": [
    {
     "data": {
      "text/html": [
       "<div>\n",
       "<style scoped>\n",
       "    .dataframe tbody tr th:only-of-type {\n",
       "        vertical-align: middle;\n",
       "    }\n",
       "\n",
       "    .dataframe tbody tr th {\n",
       "        vertical-align: top;\n",
       "    }\n",
       "\n",
       "    .dataframe thead th {\n",
       "        text-align: right;\n",
       "    }\n",
       "</style>\n",
       "<table border=\"1\" class=\"dataframe\">\n",
       "  <thead>\n",
       "    <tr style=\"text-align: right;\">\n",
       "      <th></th>\n",
       "      <th>June Precipitation</th>\n",
       "      <th>December Precipitation</th>\n",
       "    </tr>\n",
       "  </thead>\n",
       "  <tbody>\n",
       "    <tr>\n",
       "      <th>count</th>\n",
       "      <td>1574.000000</td>\n",
       "      <td>1405.000000</td>\n",
       "    </tr>\n",
       "    <tr>\n",
       "      <th>mean</th>\n",
       "      <td>0.136360</td>\n",
       "      <td>0.216819</td>\n",
       "    </tr>\n",
       "    <tr>\n",
       "      <th>std</th>\n",
       "      <td>0.335731</td>\n",
       "      <td>0.541399</td>\n",
       "    </tr>\n",
       "    <tr>\n",
       "      <th>min</th>\n",
       "      <td>0.000000</td>\n",
       "      <td>0.000000</td>\n",
       "    </tr>\n",
       "    <tr>\n",
       "      <th>25%</th>\n",
       "      <td>0.000000</td>\n",
       "      <td>0.000000</td>\n",
       "    </tr>\n",
       "    <tr>\n",
       "      <th>50%</th>\n",
       "      <td>0.020000</td>\n",
       "      <td>0.030000</td>\n",
       "    </tr>\n",
       "    <tr>\n",
       "      <th>75%</th>\n",
       "      <td>0.120000</td>\n",
       "      <td>0.150000</td>\n",
       "    </tr>\n",
       "    <tr>\n",
       "      <th>max</th>\n",
       "      <td>4.430000</td>\n",
       "      <td>6.420000</td>\n",
       "    </tr>\n",
       "  </tbody>\n",
       "</table>\n",
       "</div>"
      ],
      "text/plain": [
       "       June Precipitation  December Precipitation\n",
       "count         1574.000000             1405.000000\n",
       "mean             0.136360                0.216819\n",
       "std              0.335731                0.541399\n",
       "min              0.000000                0.000000\n",
       "25%              0.000000                0.000000\n",
       "50%              0.020000                0.030000\n",
       "75%              0.120000                0.150000\n",
       "max              4.430000                6.420000"
      ]
     },
     "execution_count": 18,
     "metadata": {},
     "output_type": "execute_result"
    }
   ],
   "source": [
    "# Use the indexes of each DataFrame as the keys for merging\n",
    "prcp_stats_df = jun_prcp_stats_df.merge(dec_prcp_stats_df, left_index=True, right_index=True)\n",
    "prcp_stats_df"
   ]
  },
  {
   "cell_type": "markdown",
   "metadata": {},
   "source": [
    "### Additional Query 4: Min/Max Temperature for June and December"
   ]
  },
  {
   "cell_type": "code",
   "execution_count": 19,
   "metadata": {},
   "outputs": [
    {
     "data": {
      "image/png": "[encoded data removed]",
      "text/plain": [
       "<Figure size 432x288 with 1 Axes>"
      ]
     },
     "metadata": {},
     "output_type": "display_data"
    }
   ],
   "source": [
    "# June min/max (mm) temperatures for all years\n",
    "jun_mm_temp = (session.query(extract('day', Measurement.date),\n",
    "                             func.max(Measurement.tobs),\n",
    "                             func.min(Measurement.tobs))\n",
    "                      .filter(extract('month', Measurement.date) == 6)\n",
    "                      .group_by(extract('day', Measurement.date))\n",
    "                      .all())\n",
    "\n",
    "# Create a DataFrame\n",
    "jun_mm_temp_df = pd.DataFrame(jun_mm_temp, columns=['day',\n",
    "                                                    'jun_max_temp',\n",
    "                                                    'jun_min_temp'])\n",
    "\n",
    "# Set the index to the day of the month\n",
    "jun_mm_temp_df.set_index(['day'], inplace=True)\n",
    "\n",
    "# Plot the min/max values\n",
    "ax = jun_mm_temp_df.plot(title='Min/Max Daily Temperature in June',\n",
    "                         xlabel='Day of Month',\n",
    "                         ylabel='Temperature (°F)')\n",
    "ax.legend(labels=['Maximums', 'Minimums'])\n",
    "fig = ax.get_figure()\n",
    "fig.patch.set_facecolor('white')\n",
    "# fig.add_artist(Rectangle((0, 0), width=1, height=1, facecolor='none', edgecolor='black'))\n",
    "fig.savefig('Resources/min_max_daily_temperature_june.svg')"
   ]
  },
  {
   "cell_type": "code",
   "execution_count": 20,
   "metadata": {
    "tags": []
   },
   "outputs": [
    {
     "data": {
      "image/png": "[encoded data removed]",
      "text/plain": [
       "<Figure size 432x288 with 1 Axes>"
      ]
     },
     "metadata": {},
     "output_type": "display_data"
    }
   ],
   "source": [
    "# December min/max (mm) temperatures for all years\n",
    "dec_mm_temp = (session.query(extract('day', Measurement.date),\n",
    "                             func.max(Measurement.tobs),\n",
    "                             func.min(Measurement.tobs))\n",
    "                      .filter(extract('month', Measurement.date) == 12)\n",
    "                      .group_by(extract('day', Measurement.date))\n",
    "                      .all())\n",
    "\n",
    "# Create a DataFrame\n",
    "dec_mm_temp_df = pd.DataFrame(dec_mm_temp, columns=['day',\n",
    "                                                    'dec_max_temp',\n",
    "                                                    'dec_min_temp'])\n",
    "\n",
    "# Set the index to the day of the month\n",
    "dec_mm_temp_df.set_index(['day'], inplace=True)\n",
    "\n",
    "# Plot the min/max values\n",
    "ax = dec_mm_temp_df.plot(title='Average Daily Temperature in December',\n",
    "                         xlabel='Day of Month',\n",
    "                         ylabel='Temperature (°F)')\n",
    "ax.legend(labels=['Maximums', 'Minimums'])\n",
    "fig = ax.get_figure()\n",
    "fig.patch.set_facecolor('white')\n",
    "# fig.add_artist(Rectangle((0, 0), width=1, height=1, facecolor='none', edgecolor='black'))\n",
    "fig.savefig('Resources/min_max_daily_temperature_december.svg')"
   ]
  }
 ],
 "metadata": {
  "kernelspec": {
   "display_name": "PythonData",
   "language": "python",
   "name": "pythondata"
  },
  "language_info": {
   "codemirror_mode": {
    "name": "ipython",
    "version": 3
   },
   "file_extension": ".py",
   "mimetype": "text/x-python",
   "name": "python",
   "nbconvert_exporter": "python",
   "pygments_lexer": "ipython3",
   "version": "3.7.11"
  }
 },
 "nbformat": 4,
 "nbformat_minor": 4
}
